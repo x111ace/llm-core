{
 "cells": [
  {
   "cell_type": "code",
   "execution_count": null,
   "id": "7d3bfb1a",
   "metadata": {},
   "outputs": [],
   "source": [
    "!pip install chromadb sentence-transformers"
   ]
  },
  {
   "cell_type": "code",
   "execution_count": 1,
   "id": "e23e5b73",
   "metadata": {},
   "outputs": [
    {
     "name": "stdout",
     "output_type": "stream",
     "text": [
      "Requirement already satisfied: maturin in c:\\users\\ac3la\\appdata\\roaming\\python\\python312\\site-packages (1.9.1)\n"
     ]
    }
   ],
   "source": [
    "!pip install maturin"
   ]
  },
  {
   "cell_type": "code",
   "execution_count": 2,
   "id": "50bea461",
   "metadata": {},
   "outputs": [
    {
     "name": "stdout",
     "output_type": "stream",
     "text": [
      "✏️ Setting installed package as editable\n"
     ]
    },
    {
     "name": "stderr",
     "output_type": "stream",
     "text": [
      "\u001b[1m\u001b[32m    Updating\u001b[0m crates.io index\n",
      "\u001b[1m\u001b[32m     Locking\u001b[0m 209 packages to latest compatible versions\n",
      "\u001b[1m\u001b[36m      Adding\u001b[0m pyo3 v0.23.5 \u001b[1m\u001b[33m(available: v0.25.1)\u001b[0m\n",
      "\u001b[1m\u001b[36m      Adding\u001b[0m rand v0.8.5 \u001b[1m\u001b[33m(available: v0.9.2)\u001b[0m\n",
      "\u001b[1m\u001b[36m      Adding\u001b[0m retry-policies v0.2.1 \u001b[1m\u001b[33m(available: v0.5.1)\u001b[0m\n",
      "\u001b[1m\u001b[36m      Adding\u001b[0m thiserror v1.0.69 \u001b[1m\u001b[33m(available: v2.0.12)\u001b[0m\n",
      "🔗 Found pyo3 bindings\n",
      "🐍 Found CPython 3.12 at c:\\Users\\ac3la\\OneDrive\\Desktop\\CL-CODER\\.learn\\databases\\llm-core\\.conda\\python.exe\n",
      "\u001b[1m\u001b[32m   Compiling\u001b[0m proc-macro2 v1.0.95\n",
      "\u001b[1m\u001b[32m   Compiling\u001b[0m unicode-ident v1.0.18\n",
      "\u001b[1m\u001b[32m   Compiling\u001b[0m windows_x86_64_msvc v0.52.6\n",
      "\u001b[1m\u001b[32m   Compiling\u001b[0m once_cell v1.21.3\n",
      "\u001b[1m\u001b[32m   Compiling\u001b[0m target-lexicon v0.12.16\n",
      "\u001b[1m\u001b[32m   Compiling\u001b[0m stable_deref_trait v1.2.0\n",
      "\u001b[1m\u001b[32m   Compiling\u001b[0m bytes v1.10.1\n",
      "\u001b[1m\u001b[32m   Compiling\u001b[0m pin-project-lite v0.2.16\n",
      "\u001b[1m\u001b[32m   Compiling\u001b[0m futures-core v0.3.31\n",
      "\u001b[1m\u001b[32m   Compiling\u001b[0m itoa v1.0.15\n",
      "\u001b[1m\u001b[32m   Compiling\u001b[0m cfg-if v1.0.1\n",
      "\u001b[1m\u001b[32m   Compiling\u001b[0m memchr v2.7.5\n",
      "\u001b[1m\u001b[32m   Compiling\u001b[0m autocfg v1.5.0\n",
      "\u001b[1m\u001b[32m   Compiling\u001b[0m futures-sink v0.3.31\n",
      "\u001b[1m\u001b[32m   Compiling\u001b[0m fnv v1.0.7\n",
      "\u001b[1m\u001b[32m   Compiling\u001b[0m serde v1.0.219\n",
      "\u001b[1m\u001b[32m   Compiling\u001b[0m writeable v0.6.1\n",
      "\u001b[1m\u001b[32m   Compiling\u001b[0m libc v0.2.174\n",
      "\u001b[1m\u001b[32m   Compiling\u001b[0m windows-link v0.1.3\n",
      "\u001b[1m\u001b[32m   Compiling\u001b[0m litemap v0.8.0\n",
      "\u001b[1m\u001b[32m   Compiling\u001b[0m slab v0.4.10\n",
      "\u001b[1m\u001b[32m   Compiling\u001b[0m smallvec v1.15.1\n",
      "\u001b[1m\u001b[32m   Compiling\u001b[0m pin-utils v0.1.0\n",
      "\u001b[1m\u001b[32m   Compiling\u001b[0m icu_normalizer_data v2.0.0\n",
      "\u001b[1m\u001b[32m   Compiling\u001b[0m icu_properties_data v2.0.1\n",
      "\u001b[1m\u001b[32m   Compiling\u001b[0m futures-io v0.3.31\n",
      "\u001b[1m\u001b[32m   Compiling\u001b[0m futures-task v0.3.31\n",
      "\u001b[1m\u001b[32m   Compiling\u001b[0m tracing-core v0.1.34\n",
      "\u001b[1m\u001b[32m   Compiling\u001b[0m zerocopy v0.8.26\n",
      "\u001b[1m\u001b[32m   Compiling\u001b[0m percent-encoding v2.3.1\n",
      "\u001b[1m\u001b[32m   Compiling\u001b[0m http v1.3.1\n",
      "\u001b[1m\u001b[32m   Compiling\u001b[0m futures-util v0.3.31\n",
      "\u001b[1m\u001b[32m   Compiling\u001b[0m hashbrown v0.15.4\n",
      "\u001b[1m\u001b[32m   Compiling\u001b[0m httparse v1.10.1\n",
      "\u001b[1m\u001b[32m   Compiling\u001b[0m equivalent v1.0.2\n",
      "\u001b[1m\u001b[32m   Compiling\u001b[0m tower-service v0.3.3\n",
      "\u001b[1m\u001b[32m   Compiling\u001b[0m atomic-waker v1.1.2\n",
      "\u001b[1m\u001b[32m   Compiling\u001b[0m tracing v0.1.41\n",
      "\u001b[1m\u001b[32m   Compiling\u001b[0m native-tls v0.2.14\n",
      "\u001b[1m\u001b[32m   Compiling\u001b[0m windows-targets v0.52.6\n",
      "\u001b[1m\u001b[32m   Compiling\u001b[0m try-lock v0.2.5\n",
      "\u001b[1m\u001b[32m   Compiling\u001b[0m indexmap v2.10.0\n",
      "\u001b[1m\u001b[32m   Compiling\u001b[0m num-traits v0.2.19\n",
      "\u001b[1m\u001b[32m   Compiling\u001b[0m windows-sys v0.59.0\n",
      "\u001b[1m\u001b[32m   Compiling\u001b[0m windows-sys v0.52.0\n",
      "\u001b[1m\u001b[32m   Compiling\u001b[0m want v0.3.1\n",
      "\u001b[1m\u001b[32m   Compiling\u001b[0m memoffset v0.9.1\n",
      "\u001b[1m\u001b[32m   Compiling\u001b[0m windows-result v0.3.4\n",
      "\u001b[1m\u001b[32m   Compiling\u001b[0m http-body v1.0.1\n",
      "\u001b[1m\u001b[32m   Compiling\u001b[0m windows-strings v0.4.2\n",
      "\u001b[1m\u001b[32m   Compiling\u001b[0m futures-channel v0.3.31\n",
      "\u001b[1m\u001b[32m   Compiling\u001b[0m getrandom v0.2.16\n",
      "\u001b[1m\u001b[32m   Compiling\u001b[0m heck v0.5.0\n",
      "\u001b[1m\u001b[32m   Compiling\u001b[0m pyo3-build-config v0.23.5\n",
      "\u001b[1m\u001b[32m   Compiling\u001b[0m quote v1.0.40\n",
      "\u001b[1m\u001b[32m   Compiling\u001b[0m rand_core v0.6.4\n",
      "\u001b[1m\u001b[32m   Compiling\u001b[0m form_urlencoded v1.2.1\n",
      "\u001b[1m\u001b[32m   Compiling\u001b[0m sync_wrapper v1.0.2\n",
      "\u001b[1m\u001b[32m   Compiling\u001b[0m windows-registry v0.5.3\n",
      "\u001b[1m\u001b[32m   Compiling\u001b[0m tower-layer v0.3.3\n",
      "\u001b[1m\u001b[32m   Compiling\u001b[0m utf8_iter v1.0.4\n",
      "\u001b[1m\u001b[32m   Compiling\u001b[0m ipnet v2.11.0\n",
      "\u001b[1m\u001b[32m   Compiling\u001b[0m base64 v0.22.1\n",
      "\u001b[1m\u001b[32m   Compiling\u001b[0m syn v2.0.104\n",
      "\u001b[1m\u001b[32m   Compiling\u001b[0m ryu v1.0.20\n",
      "\u001b[1m\u001b[32m   Compiling\u001b[0m serde_json v1.0.141\n",
      "\u001b[1m\u001b[32m   Compiling\u001b[0m getrandom v0.3.3\n",
      "\u001b[1m\u001b[32m   Compiling\u001b[0m anyhow v1.0.98\n",
      "\u001b[1m\u001b[32m   Compiling\u001b[0m http-body-util v0.1.3\n",
      "\u001b[1m\u001b[32m   Compiling\u001b[0m aho-corasick v1.1.3\n",
      "\u001b[1m\u001b[32m   Compiling\u001b[0m zeroize v1.8.1\n",
      "\u001b[1m\u001b[32m   Compiling\u001b[0m unindent v0.2.4\n",
      "\u001b[1m\u001b[32m   Compiling\u001b[0m thiserror v1.0.69\n",
      "\u001b[1m\u001b[32m   Compiling\u001b[0m iri-string v0.7.8\n",
      "\u001b[1m\u001b[32m   Compiling\u001b[0m regex-syntax v0.8.5\n",
      "\u001b[1m\u001b[32m   Compiling\u001b[0m bitflags v2.9.1\n",
      "\u001b[1m\u001b[32m   Compiling\u001b[0m indoc v2.0.6\n",
      "\u001b[1m\u001b[32m   Compiling\u001b[0m rustls-pki-types v1.12.0\n",
      "\u001b[1m\u001b[32m   Compiling\u001b[0m ppv-lite86 v0.2.21\n",
      "\u001b[1m\u001b[32m   Compiling\u001b[0m socket2 v0.5.10\n",
      "\u001b[1m\u001b[32m   Compiling\u001b[0m encoding_rs v0.8.35\n",
      "\u001b[1m\u001b[32m   Compiling\u001b[0m mime v0.3.17\n",
      "\u001b[1m\u001b[32m   Compiling\u001b[0m log v0.4.27\n",
      "\u001b[1m\u001b[32m   Compiling\u001b[0m rand_chacha v0.3.1\n",
      "\u001b[1m\u001b[32m   Compiling\u001b[0m dotenvy v0.15.7\n",
      "\u001b[1m\u001b[32m   Compiling\u001b[0m lazy_static v1.5.0\n",
      "\u001b[1m\u001b[32m   Compiling\u001b[0m rand v0.8.5\n",
      "\u001b[1m\u001b[32m   Compiling\u001b[0m pyo3-ffi v0.23.5\n",
      "\u001b[1m\u001b[32m   Compiling\u001b[0m pyo3-macros-backend v0.23.5\n",
      "\u001b[1m\u001b[32m   Compiling\u001b[0m pyo3 v0.23.5\n",
      "\u001b[1m\u001b[32m   Compiling\u001b[0m regex-automata v0.4.9\n",
      "\u001b[1m\u001b[32m   Compiling\u001b[0m synstructure v0.13.2\n",
      "\u001b[1m\u001b[32m   Compiling\u001b[0m zerofrom-derive v0.1.6\n",
      "\u001b[1m\u001b[32m   Compiling\u001b[0m yoke-derive v0.8.0\n",
      "\u001b[1m\u001b[32m   Compiling\u001b[0m zerovec-derive v0.11.1\n",
      "\u001b[1m\u001b[32m   Compiling\u001b[0m displaydoc v0.2.5\n",
      "\u001b[1m\u001b[32m   Compiling\u001b[0m tokio-macros v2.5.0\n",
      "\u001b[1m\u001b[32m   Compiling\u001b[0m serde_derive v1.0.219\n",
      "\u001b[1m\u001b[32m   Compiling\u001b[0m thiserror-impl v1.0.69\n",
      "\u001b[1m\u001b[32m   Compiling\u001b[0m mio v1.0.4\n",
      "\u001b[1m\u001b[32m   Compiling\u001b[0m schannel v0.1.27\n",
      "\u001b[1m\u001b[32m   Compiling\u001b[0m home v0.5.11\n",
      "\u001b[1m\u001b[32m   Compiling\u001b[0m zerofrom v0.1.6\n",
      "\u001b[1m\u001b[32m   Compiling\u001b[0m yoke v0.8.0\n",
      "\u001b[1m\u001b[32m   Compiling\u001b[0m regex v1.11.1\n",
      "\u001b[1m\u001b[32m   Compiling\u001b[0m tokio v1.46.1\n",
      "\u001b[1m\u001b[32m   Compiling\u001b[0m zerovec v0.11.2\n",
      "\u001b[1m\u001b[32m   Compiling\u001b[0m zerotrie v0.2.2\n",
      "\u001b[1m\u001b[32m   Compiling\u001b[0m pyo3-macros v0.23.5\n",
      "\u001b[1m\u001b[32m   Compiling\u001b[0m tinystr v0.8.1\n",
      "\u001b[1m\u001b[32m   Compiling\u001b[0m potential_utf v0.1.2\n",
      "\u001b[1m\u001b[32m   Compiling\u001b[0m icu_collections v2.0.0\n",
      "\u001b[1m\u001b[32m   Compiling\u001b[0m icu_locale_core v2.0.0\n",
      "\u001b[1m\u001b[32m   Compiling\u001b[0m icu_provider v2.0.0\n",
      "\u001b[1m\u001b[32m   Compiling\u001b[0m icu_normalizer v2.0.0\n",
      "\u001b[1m\u001b[32m   Compiling\u001b[0m icu_properties v2.0.1\n",
      "\u001b[1m\u001b[32m   Compiling\u001b[0m serde_urlencoded v0.7.1\n",
      "\u001b[1m\u001b[32m   Compiling\u001b[0m chrono v0.4.41\n",
      "\u001b[1m\u001b[32m   Compiling\u001b[0m uuid v1.17.0\n",
      "\u001b[1m\u001b[32m   Compiling\u001b[0m idna_adapter v1.2.1\n",
      "\u001b[1m\u001b[32m   Compiling\u001b[0m idna v1.0.3\n",
      "\u001b[1m\u001b[32m   Compiling\u001b[0m url v2.5.4\n",
      "\u001b[1m\u001b[32m   Compiling\u001b[0m retry-policies v0.2.1\n",
      "\u001b[1m\u001b[32m   Compiling\u001b[0m serde-pyobject v0.6.2\n",
      "\u001b[1m\u001b[32m   Compiling\u001b[0m tokio-util v0.7.15\n",
      "\u001b[1m\u001b[32m   Compiling\u001b[0m tower v0.5.2\n",
      "\u001b[1m\u001b[32m   Compiling\u001b[0m tokio-native-tls v0.3.1\n",
      "\u001b[1m\u001b[32m   Compiling\u001b[0m h2 v0.4.11\n",
      "\u001b[1m\u001b[32m   Compiling\u001b[0m tower-http v0.6.6\n",
      "\u001b[1m\u001b[32m   Compiling\u001b[0m hyper v1.6.0\n",
      "\u001b[1m\u001b[32m   Compiling\u001b[0m hyper-util v0.1.15\n",
      "\u001b[1m\u001b[32m   Compiling\u001b[0m hyper-tls v0.6.0\n",
      "\u001b[1m\u001b[32m   Compiling\u001b[0m reqwest v0.12.22\n",
      "\u001b[1m\u001b[32m   Compiling\u001b[0m llm-core v0.1.0 (C:\\Users\\ac3la\\OneDrive\\Desktop\\CL-CODER\\.learn\\databases\\llm-core\\llm_core\\core)\n",
      "\u001b[1m\u001b[32m    Finished\u001b[0m `dev` profile [unoptimized + debuginfo] target(s) in 42.40s\n",
      "📦 Built wheel for CPython 3.12 to C:\\Users\\ac3la\\AppData\\Local\\Temp\\.tmpFxG05S\\llm_core-0.1.0-cp312-cp312-win_amd64.whl\n",
      "🛠 Installed llm_core-0.1.0\n"
     ]
    }
   ],
   "source": [
    "!python -m maturin develop"
   ]
  },
  {
   "cell_type": "code",
   "execution_count": 1,
   "id": "a0f84d93",
   "metadata": {},
   "outputs": [
    {
     "name": "stdout",
     "output_type": "stream",
     "text": [
      "Validation successful: llm_core.Chat imported.\n"
     ]
    }
   ],
   "source": [
    "!python -c \"from llm_core import Chat; print('Validation successful: llm_core.Chat imported.')\""
   ]
  }
 ],
 "metadata": {
  "kernelspec": {
   "display_name": "Python 3",
   "language": "python",
   "name": "python3"
  },
  "language_info": {
   "codemirror_mode": {
    "name": "ipython",
    "version": 3
   },
   "file_extension": ".py",
   "mimetype": "text/x-python",
   "name": "python",
   "nbconvert_exporter": "python",
   "pygments_lexer": "ipython3",
   "version": "3.12.11"
  }
 },
 "nbformat": 4,
 "nbformat_minor": 5
}
